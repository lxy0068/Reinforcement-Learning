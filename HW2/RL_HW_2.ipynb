{
 "cells": [
  {
   "cell_type": "markdown",
   "metadata": {
    "collapsed": true,
    "pycharm": {
     "name": "#%% md\n"
    }
   },
   "source": [
    "#### Reinforcement Learning &nbsp;&nbsp;&nbsp;&nbsp;&nbsp;&nbsp;&nbsp;&nbsp;&nbsp;&nbsp; &nbsp;&nbsp;&nbsp;&nbsp;&nbsp;&nbsp;&nbsp;&nbsp;&nbsp;&nbsp;&nbsp;&nbsp;&nbsp;&nbsp;&nbsp;&nbsp;&nbsp;&nbsp;&nbsp;&nbsp;&nbsp;&nbsp;&nbsp;&nbsp;&nbsp;&nbsp;&nbsp;&nbsp;&nbsp;&nbsp;&nbsp;&nbsp;&nbsp;&nbsp;&nbsp;&nbsp;&nbsp;&nbsp;&nbsp;&nbsp;&nbsp;&nbsp;&nbsp;&nbsp;&nbsp;&nbsp;&nbsp;&nbsp;&nbsp;&nbsp;&nbsp;&nbsp;&nbsp;&nbsp;&nbsp;&nbsp;&nbsp;&nbsp;&nbsp;&nbsp;&nbsp;&nbsp;&nbsp;&nbsp;&nbsp;&nbsp;&nbsp;&nbsp;&nbsp;&nbsp;&nbsp;&nbsp;&nbsp;&nbsp;&nbsp;&nbsp;&nbsp;&nbsp;&nbsp;Homework #2\n",
    "# &nbsp;&nbsp;&nbsp;&nbsp;&nbsp;&nbsp;&nbsp;&nbsp;&nbsp;&nbsp; &nbsp;&nbsp;&nbsp;&nbsp;&nbsp;&nbsp;&nbsp;&nbsp;&nbsp;&nbsp;&nbsp;&nbsp;&nbsp;&nbsp;&nbsp;&nbsp;&nbsp;&nbsp;&nbsp;&nbsp;&nbsp;&nbsp;&nbsp;&nbsp;&nbsp;&nbsp;&nbsp;&nbsp;&nbsp;&nbsp;&nbsp;&nbsp;The $\\lambda$ Return"
   ]
  },
  {
   "cell_type": "markdown",
   "metadata": {},
   "source": [
    "## Description\n",
    "\n",
    "Given an MDP and a particular time step $t$ of a task (continuing or\n",
    "episodic), the $\\lambda$-return, $G_t^\\lambda$, $0\\leq\\lambda\\leq 1$, is\n",
    "a weighted combination of the $n$-step returns $G_{t:t+n}$, $n \\geq 1$:\n",
    "\n",
    "$${G_t^\\lambda = \\sum\\limits_{n=1}^\\infty(1-\\lambda)\\lambda^{n-1}G_{t:t+n}.}$$\n",
    "\n",
    "While the $n$-step return $G_{t:t+n}$ can be viewed as the target of\n",
    "an $n$-step TD update rule, the $\\lambda$-return can be viewed as the\n",
    "target of the update rule for the TD$(\\lambda)$ prediction algorithm,\n",
    "which you will become familiar with in project 1.\n",
    "\n",
    "Consider the Markov reward process described by the following state\n",
    "diagram and assume the agent is in state $0$ at time $t$ (also assume\n",
    "the discount rate is $\\gamma=1$). A Markov reward process can be thought of as\n",
    "an MDP with only one action possible from each state (denoted as action $0$ in\n",
    "the figure below).\n",
    "\n",
    "![image](https://d1b10bmlvqabco.cloudfront.net/paste/jqmfo7d3watba/9e6fd83672f880704b8418728297fc077786c8907d87fec631601da9ff4c85ef/hw2.png)\n",
    "\n",
    "## Procedure\n",
    "\n",
    "-   You will implement your solution using the `solve()` method\n",
    "    in the code below.\n",
    "    \n",
    "-   You will be given `p`, the probability of transitioning from state\n",
    "    $0$ to state $1$, `V`, the estimate of the value function at time\n",
    "    $t$, represented as a vector\n",
    "    $[V(0), V(1), V(2), V(3), V(4), V(5), V(6)]$, and `rewards`, a\n",
    "    vector of the rewards $[r_0, r_1, r_2, r_3, r_4, r_5, r_6]$\n",
    "    corresponding to the MDP.\n",
    "\n",
    "-   Your return value should be a value of $\\lambda$,\n",
    "    strictly less than 1, such that the expected value of the\n",
    "    $\\lambda$-return equals the expected Monte-Carlo return at time $t$.\n",
    "\n",
    "-   Your answer must be correct to $3$ decimal places, truncated (e.g.\n",
    "    3.14159265 becomes 3.141).\n",
    "\n",
    "## Resources\n",
    "\n",
    "The concepts explored in this homework are covered by:\n",
    "\n",
    "-   Lecture Lesson 3: Temporal Difference Learning\n",
    "\n",
    "-   Chapter 7 (7.1 $n$-step TD Prediction) and Chapter 12 (12.1 The\n",
    "    $\\lambda$-return) of\n",
    "    http://incompleteideas.net/book/the-book-2nd.html\n",
    "\n",
    "-   'Learning to Predict by the Method of Temporal Differences', R.\n",
    "    Sutton, 1988\n",
    "\n",
    "## Submission\n",
    "\n",
    "-   The due date is indicated on the Syllabus page for this assignment.\n",
    "\n",
    "-   Use the template code below to implement your work.\n",
    "\n",
    "-   Please use *python 3.6.x* or more recent version and *numpy==1.18.0* or more recent version, and you can\n",
    "    use any core library (i.e., anything in the Python standard library).\n",
    "    No other library can be used."
   ]
  },
  {
   "cell_type": "code",
   "execution_count": 48,
   "metadata": {},
   "outputs": [],
   "source": [
    "################\n",
    "# DO NOT REMOVE\n",
    "# Versions\n",
    "# numpy==1.18.0\n",
    "# 刘兴琰\n",
    "# 202264690069\n",
    "################\n",
    "import numpy as np\n",
    "\n",
    "class TDAgent(object):\n",
    "    def __init__(self):\n",
    "        pass\n",
    "\n",
    "    def calculate_mc_return(self, p, rewards):\n",
    "        \"\"\"\n",
    "        Calculate the Monte Carlo return by weighting sequences of rewards based on the probability `p`.\n",
    "        \"\"\"\n",
    "        return p * (rewards[0] + rewards[2] + rewards[4] + rewards[5] + rewards[6]) + (1 - p) * (\n",
    "            rewards[1] + rewards[3] + rewards[4] + rewards[5] + rewards[6]\n",
    "        )\n",
    "\n",
    "    def calculate_lambda_return(self, p, V, rewards, lambda_):\n",
    "        \"\"\"\n",
    "        Calculate the lambda-return by taking the weighted sum of n-step returns.\n",
    "        \"\"\"\n",
    "        G_lambda = 0\n",
    "        for n in range(1, 6):\n",
    "            if n == 1:\n",
    "                G_n = p * (rewards[0] + V[1]) + (1 - p) * (rewards[1] + V[2])\n",
    "            elif n == 2:\n",
    "                G_n = p * (rewards[0] + rewards[2] + V[3]) + (1 - p) * (rewards[1] + rewards[3] + V[3])\n",
    "            elif n == 3:\n",
    "                G_n = p * (rewards[0] + rewards[2] + rewards[4] + V[4]) + (1 - p) * (rewards[1] + rewards[3] + rewards[4] + V[4])\n",
    "            elif n == 4:\n",
    "                G_n = p * (rewards[0] + rewards[2] + rewards[4] + rewards[5] + V[5]) + (1 - p) * (rewards[1] + rewards[3] + rewards[4] + rewards[5] + V[5])\n",
    "            elif n == 5:\n",
    "                G_n = p * (rewards[0] + rewards[2] + rewards[4] + rewards[5] + rewards[6]) + (1 - p) * (rewards[1] + rewards[3] + rewards[4] + rewards[5] + rewards[6])\n",
    "\n",
    "            \n",
    "            G_lambda += (1 - lambda_) * (lambda_ ** (n - 1)) * G_n\n",
    "\n",
    "        G_lambda += (lambda_ ** 5) * (p * (rewards[0] + rewards[2] + rewards[4] + rewards[5] + rewards[6]) + (1 - p) * (rewards[1] + rewards[3] + rewards[4] + rewards[5] + rewards[6]))\n",
    "\n",
    "        return G_lambda\n",
    "\n",
    "    def solve(self, p, V, rewards):\n",
    "        \"\"\"\n",
    "        Find the value of lambda that minimizes the difference between the lambda-return and Monte Carlo return.\n",
    "        \"\"\"\n",
    "        mc_return = self.calculate_mc_return(p, rewards)\n",
    "\n",
    "        best_lambda = 0\n",
    "        min_difference = float('inf')\n",
    "\n",
    "        for lambda_ in np.arange(0, 1, 0.0001):\n",
    "            lambda_return = self.calculate_lambda_return(p, V, rewards, lambda_)\n",
    "            difference = abs(mc_return - lambda_return)\n",
    "\n",
    "            if difference < min_difference:\n",
    "                min_difference = difference\n",
    "                best_lambda = lambda_\n",
    "\n",
    "        return round(best_lambda, 3)"
   ]
  },
  {
   "cell_type": "markdown",
   "metadata": {},
   "source": [
    "## Test cases\n",
    "\n",
    "We have provided some test cases for you to help verify your implementation."
   ]
  },
  {
   "cell_type": "code",
   "execution_count": 49,
   "metadata": {
    "tags": []
   },
   "outputs": [
    {
     "name": "stderr",
     "output_type": "stream",
     "text": [
      "test_case_1 (__main__.TestTDNotebook.test_case_1) ... ok\n",
      "test_case_2 (__main__.TestTDNotebook.test_case_2) ... ok\n",
      "test_case_3 (__main__.TestTDNotebook.test_case_3) ... ok\n",
      "\n",
      "----------------------------------------------------------------------\n",
      "Ran 3 tests in 0.080s\n",
      "\n",
      "OK\n"
     ]
    },
    {
     "data": {
      "text/plain": [
       "<unittest.main.TestProgram at 0x20fed52fe90>"
      ]
     },
     "execution_count": 49,
     "metadata": {},
     "output_type": "execute_result"
    }
   ],
   "source": [
    "## DO NOT MODIFY THIS CODE.  This code will ensure that your submission\n",
    "## will work proberly\n",
    "\n",
    "import unittest\n",
    "\n",
    "class TestTDNotebook(unittest.TestCase):\n",
    "    def test_case_1(self):\n",
    "        agent = TDAgent()\n",
    "        np.testing.assert_almost_equal(\n",
    "            agent.solve(\n",
    "                p=0.81,\n",
    "                V=[0.0, 4.0, 25.7, 0.0, 20.1, 12.2, 0.0],\n",
    "                rewards=[7.9, -5.1, 2.5, -7.2, 9.0, 0.0, 1.6]\n",
    "            ),\n",
    "            0.622,\n",
    "            decimal=3\n",
    "        )\n",
    "        \n",
    "    def test_case_2(self):\n",
    "        agent = TDAgent()\n",
    "        np.testing.assert_almost_equal(\n",
    "            agent.solve(\n",
    "                p=0.22,\n",
    "                V=[12.3, -5.2, 0.0, 25.4, 10.6, 9.2, 0.0],\n",
    "                rewards=[-2.4, 0.8, 4.0, 2.5, 8.6, -6.4, 6.1]\n",
    "            ),\n",
    "            0.519,\n",
    "            decimal=3\n",
    "        )\n",
    "        \n",
    "    def test_case_3(self):\n",
    "        agent = TDAgent()\n",
    "\n",
    "        np.testing.assert_almost_equal(\n",
    "            agent.solve(\n",
    "                p=0.64,\n",
    "                V=[-6.5, 4.9, 7.8, -2.3, 25.5, -10.2, 0.0],\n",
    "                rewards=[-2.4, 9.6, -7.8, 0.1, 3.4, -2.1, 7.9]\n",
    "            ),\n",
    "            0.207,\n",
    "            decimal=3\n",
    "        )\n",
    "\n",
    "unittest.main(argv=[''], verbosity=2, exit=False)"
   ]
  }
 ],
 "metadata": {
  "kernelspec": {
   "display_name": "Python 3 (ipykernel)",
   "language": "python",
   "name": "python3"
  },
  "language_info": {
   "codemirror_mode": {
    "name": "ipython",
    "version": 3
   },
   "file_extension": ".py",
   "mimetype": "text/x-python",
   "name": "python",
   "nbconvert_exporter": "python",
   "pygments_lexer": "ipython3",
   "version": "3.11.7"
  },
  "pycharm": {
   "stem_cell": {
    "cell_type": "raw",
    "metadata": {
     "collapsed": false
    },
    "source": []
   }
  }
 },
 "nbformat": 4,
 "nbformat_minor": 1
}
